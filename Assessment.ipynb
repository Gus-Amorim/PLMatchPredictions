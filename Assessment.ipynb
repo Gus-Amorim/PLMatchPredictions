{
 "cells": [
  {
   "cell_type": "code",
   "execution_count": 1,
   "metadata": {},
   "outputs": [],
   "source": [
    "import pandas as pd\n",
    "import os\n",
    "import numpy as np\n",
    "import matplotlib.pyplot as plt\n",
    "from datetime import datetime\n",
    "import copy\n",
    "\n",
    "csv_data = pd.read_csv('Cleaned_Historical_Data.csv')\n",
    "\n"
   ]
  },
  {
   "cell_type": "code",
   "execution_count": 2,
   "metadata": {},
   "outputs": [
    {
     "name": "stdout",
     "output_type": "stream",
     "text": [
      "         Date   HomeTeam    AwayTeam  FTHG  FTAG FTR  HTHG  HTAG HTR  \\\n",
      "0  10/01/2017    Arsenal    Brighton     2     0   H     1     0   H   \n",
      "1  10/01/2017    Everton     Burnley     0     1   A     0     1   A   \n",
      "2  10/01/2017  Newcastle   Liverpool     1     1   D     1     1   D   \n",
      "3  12/02/2017    Arsenal  Man United     1     3   A     0     2   A   \n",
      "4  12/02/2017    Watford   Tottenham     1     1   D     1     1   D   \n",
      "\n",
      "      Referee  ...  AIn  AOut  AStr  AOff  Ablock  APSxG  APSxG+/-  AWon  \\\n",
      "0    K Friend  ...    5     0     0     3       8    2.7       0.7    13   \n",
      "1      J Moss  ...    3     0     0     1      10    0.3       0.3    34   \n",
      "2    C Pawson  ...    2     3     0     2      10    1.3       0.3    20   \n",
      "3  A Marriner  ...    1     0     0     0       7    5.0       4.0    24   \n",
      "4  M Atkinson  ...    1     0     1    10       6    0.2      -0.8    15   \n",
      "\n",
      "   Alosts  AWon%  \n",
      "0      30   30.2  \n",
      "1      32   51.5  \n",
      "2      16   55.6  \n",
      "3      11   68.6  \n",
      "4      19   44.1  \n",
      "\n",
      "[5 rows x 272 columns]\n"
     ]
    }
   ],
   "source": [
    "print(csv_data.head())\n",
    "column_names = list(csv_data.columns)"
   ]
  },
  {
   "cell_type": "code",
   "execution_count": 3,
   "metadata": {},
   "outputs": [
    {
     "name": "stdout",
     "output_type": "stream",
     "text": [
      "<class 'pandas.core.frame.DataFrame'>\n",
      "RangeIndex: 2636 entries, 0 to 2635\n",
      "Columns: 272 entries, Date to AWon%\n",
      "dtypes: float64(42), int64(224), object(6)\n",
      "memory usage: 5.5+ MB\n",
      "None\n",
      "              FTHG         FTAG         HTHG         HTAG           HS  \\\n",
      "count  2636.000000  2636.000000  2636.000000  2636.000000  2636.000000   \n",
      "mean      1.559560     1.273520     0.690061     0.571700    13.841806   \n",
      "std       1.339468     1.221843     0.852228     0.780563     5.751826   \n",
      "min       0.000000     0.000000     0.000000     0.000000     0.000000   \n",
      "25%       1.000000     0.000000     0.000000     0.000000    10.000000   \n",
      "50%       1.000000     1.000000     0.000000     0.000000    13.000000   \n",
      "75%       2.000000     2.000000     1.000000     1.000000    17.000000   \n",
      "max       9.000000     9.000000     5.000000     5.000000    36.000000   \n",
      "\n",
      "                AS          HST          AST           HF           AF  ...  \\\n",
      "count  2636.000000  2636.000000  2636.000000  2636.000000  2636.000000  ...   \n",
      "mean     11.426024     4.782246     4.028452    10.496206    10.676783  ...   \n",
      "std       5.076514     2.649765     2.394084     3.410719     3.575407  ...   \n",
      "min       0.000000     0.000000     0.000000     0.000000     1.000000  ...   \n",
      "25%       8.000000     3.000000     2.000000     8.000000     8.000000  ...   \n",
      "50%      11.000000     4.000000     4.000000    10.000000    10.000000  ...   \n",
      "75%      15.000000     6.000000     5.000000    13.000000    13.000000  ...   \n",
      "max      31.000000    15.000000    15.000000    23.000000    26.000000  ...   \n",
      "\n",
      "               AIn         AOut        AStr         AOff       Ablock  \\\n",
      "count  2636.000000  2636.000000  2636.00000  2636.000000  2636.000000   \n",
      "mean      2.218513     1.509484     0.14264     1.758346     9.398331   \n",
      "std       1.916486     1.713742     0.53007     1.534557     3.655557   \n",
      "min       0.000000     0.000000     0.00000     0.000000     0.000000   \n",
      "25%       1.000000     0.000000     0.00000     1.000000     7.000000   \n",
      "50%       2.000000     1.000000     0.00000     1.000000     9.000000   \n",
      "75%       3.000000     2.000000     0.00000     3.000000    12.000000   \n",
      "max      12.000000    14.000000    10.00000    10.000000    25.000000   \n",
      "\n",
      "             APSxG     APSxG+/-         AWon       Alosts        AWon%  \n",
      "count  2636.000000  2636.000000  2636.000000  2636.000000  2636.000000  \n",
      "mean      1.429439    -0.071700    16.520486    16.859636    49.430008  \n",
      "std       1.032220     0.823218     7.157907     7.307039    10.370726  \n",
      "min       0.000000    -4.700000     1.000000     1.000000     8.300000  \n",
      "25%       0.600000    -0.600000    11.000000    11.000000    42.900000  \n",
      "50%       1.300000     0.000000    16.000000    16.000000    50.000000  \n",
      "75%       2.000000     0.400000    21.000000    21.000000    56.100000  \n",
      "max       6.600000     4.000000    52.000000    65.000000    88.900000  \n",
      "\n",
      "[8 rows x 266 columns]\n"
     ]
    }
   ],
   "source": [
    "print(csv_data.info())\n",
    "print(csv_data.describe())"
   ]
  },
  {
   "cell_type": "code",
   "execution_count": 3,
   "metadata": {},
   "outputs": [],
   "source": [
    "csv_data['Date'] = pd.to_datetime(csv_data['Date'], format='%d/%m/%Y')\n",
    "\n",
    "csv_data.drop('Date', axis=1, inplace=True)\n",
    "csv_data = pd.get_dummies(csv_data, columns=['HomeTeam', 'AwayTeam', 'Referee'])"
   ]
  },
  {
   "cell_type": "code",
   "execution_count": 4,
   "metadata": {},
   "outputs": [
    {
     "name": "stderr",
     "output_type": "stream",
     "text": [
      "/tmp/ipykernel_111500/3857769114.py:2: FutureWarning: Downcasting behavior in `replace` is deprecated and will be removed in a future version. To retain the old behavior, explicitly call `result.infer_objects(copy=False)`. To opt-in to the future behavior, set `pd.set_option('future.no_silent_downcasting', True)`\n",
      "  csv_data['FTR'] = csv_data['FTR'].replace(ftr_mapping)\n",
      "/tmp/ipykernel_111500/3857769114.py:3: FutureWarning: Downcasting behavior in `replace` is deprecated and will be removed in a future version. To retain the old behavior, explicitly call `result.infer_objects(copy=False)`. To opt-in to the future behavior, set `pd.set_option('future.no_silent_downcasting', True)`\n",
      "  csv_data['HTR'] = csv_data['HTR'].replace(ftr_mapping)\n"
     ]
    }
   ],
   "source": [
    "ftr_mapping = {'H': 1, 'A': -1, 'D': 0}\n",
    "csv_data['FTR'] = csv_data['FTR'].replace(ftr_mapping)\n",
    "csv_data['HTR'] = csv_data['HTR'].replace(ftr_mapping)\n",
    "\n",
    "# Adding detailed outcome columns based on the transformed 'FTR'\n",
    "csv_data['Win'] = (csv_data['FTR'] == 1).astype(int)\n",
    "csv_data['Lose'] = (csv_data['FTR'] == -1).astype(int)\n",
    "csv_data['Draw'] = (csv_data['FTR'] == 0).astype(int)\n",
    "\n",
    "csv_data['Win'] = (csv_data['HTR'] == 1).astype(int)\n",
    "csv_data['Lose'] = (csv_data['HTR'] == -1).astype(int)\n",
    "csv_data['Draw'] = (csv_data['HTR'] == 0).astype(int)"
   ]
  },
  {
   "cell_type": "code",
   "execution_count": 5,
   "metadata": {},
   "outputs": [],
   "source": [
    "X = csv_data.drop(['FTR', 'Win', 'Lose', 'Draw'], axis=1)\n",
    "y = csv_data['FTR']"
   ]
  },
  {
   "cell_type": "code",
   "execution_count": 6,
   "metadata": {},
   "outputs": [
    {
     "name": "stdout",
     "output_type": "stream",
     "text": [
      "(1977, 369) (329, 369) (330, 369)\n",
      "(1977,) (329,) (330,)\n"
     ]
    }
   ],
   "source": [
    "from sklearn.model_selection import train_test_split\n",
    "\n",
    "X_train_random, X_validation_random, y_train_random, y_validation_random = train_test_split(X, y, test_size=0.25, random_state=42)\n",
    "X_validation_random, X_test_random, y_validation_random, y_test_random = train_test_split(X_validation_random, y_validation_random, test_size=0.5, random_state=42)\n",
    "print(X_train_random.shape, X_validation_random.shape, X_test_random.shape)\n",
    "print(y_train_random.shape, y_validation_random.shape, y_test_random.shape)"
   ]
  },
  {
   "cell_type": "code",
   "execution_count": 7,
   "metadata": {},
   "outputs": [
    {
     "name": "stdout",
     "output_type": "stream",
     "text": [
      "(1889, 369)\n",
      "(1889,)\n",
      "(396, 369)\n",
      "(396,)\n",
      "(349, 369)\n",
      "(349,)\n"
     ]
    }
   ],
   "source": [
    "X_train = X.iloc[0:1889]\n",
    "print(X_train.shape)\n",
    "Y_train = y.iloc[0:1889]\n",
    "print(Y_train.shape)\n",
    "X_validation = X.iloc[1890:2286]\n",
    "print(X_validation.shape)\n",
    "Y_validation = y.iloc[1890:2286]\n",
    "print(Y_validation.shape)\n",
    "X_test = X.iloc[2287:]\n",
    "print(X_test.shape)\n",
    "Y_test = y.iloc[2287:]\n",
    "print(Y_test.shape)\n"
   ]
  },
  {
   "cell_type": "code",
   "execution_count": 8,
   "metadata": {},
   "outputs": [
    {
     "name": "stdout",
     "output_type": "stream",
     "text": [
      "Accuracy: 0.7650429799426934\n",
      "Accuracy: 0.9121212121212121\n"
     ]
    }
   ],
   "source": [
    "from sklearn.ensemble import RandomForestClassifier\n",
    "from sklearn.metrics import accuracy_score\n",
    "\n",
    "model = RandomForestClassifier(random_state=42)\n",
    "model.fit(X_train, Y_train)\n",
    "predictions = model.predict(X_test)\n",
    "\n",
    "print(\"Accuracy:\", accuracy_score(Y_test, predictions))\n",
    "\n",
    "\n",
    "model = RandomForestClassifier(random_state=42)\n",
    "model.fit(X_train_random, y_train_random)\n",
    "predictions = model.predict(X_test_random)\n",
    "\n",
    "print(\"Accuracy:\", accuracy_score(y_test_random, predictions))"
   ]
  },
  {
   "cell_type": "code",
   "execution_count": 9,
   "metadata": {},
   "outputs": [
    {
     "name": "stdout",
     "output_type": "stream",
     "text": [
      "(1889, 369) (396, 369) (349, 369)\n",
      "(1977, 369) (329, 369) (330, 369)\n",
      "Accuracy: 0.7679083094555874\n",
      "Accuracy: 0.9090909090909091\n"
     ]
    }
   ],
   "source": [
    "# standardize the data\n",
    "from sklearn.preprocessing import StandardScaler\n",
    "\n",
    "scaler = StandardScaler()\n",
    "scaler.fit(X_train)\n",
    "X_train_std = scaler.transform(X_train)\n",
    "X_validation_std = scaler.transform(X_validation)\n",
    "X_test_std = scaler.transform(X_test)\n",
    "print(X_train_std.shape, X_validation_std.shape, X_test_std.shape)\n",
    "\n",
    "scaler.fit(X_train_random)\n",
    "X_train_std_rand = scaler.transform(X_train_random)\n",
    "X_validation_std_rand = scaler.transform(X_validation_random)\n",
    "X_test_std_rand = scaler.transform(X_test_random)\n",
    "print(X_train_std_rand.shape, X_validation_std_rand.shape, X_test_std_rand.shape)\n",
    "\n",
    "model = RandomForestClassifier(random_state=42)\n",
    "model.fit(X_train_std, Y_train)\n",
    "predictions = model.predict(X_test_std)\n",
    "\n",
    "print(\"Accuracy:\", accuracy_score(Y_test, predictions))\n",
    "\n",
    "model = RandomForestClassifier(random_state=42)\n",
    "model.fit(X_train_std_rand, y_train_random)\n",
    "predictions = model.predict(X_test_std_rand)\n",
    "\n",
    "print(\"Accuracy:\", accuracy_score(y_test_random, predictions))\n",
    "\n"
   ]
  },
  {
   "cell_type": "code",
   "execution_count": 10,
   "metadata": {},
   "outputs": [
    {
     "name": "stdout",
     "output_type": "stream",
     "text": [
      "(1889, 369) (396, 369) (349, 369)\n",
      "(1889, 369) (396, 369) (349, 369)\n",
      "(1977, 369) (329, 369) (330, 369)\n",
      "(1977, 369) (329, 369) (330, 369)\n",
      "Accuracy (standardise): 0.6017191977077364\n",
      "Accuracy: 0.5214899713467048\n",
      "Accuracy (standardise): 0.6757575757575758\n",
      "Accuracy: 0.5787878787878787\n"
     ]
    }
   ],
   "source": [
    "# PCA \n",
    "from sklearn import decomposition\n",
    "pca = decomposition.PCA(svd_solver='auto', random_state=42)\n",
    "pca.fit(X_train)\n",
    "transformed_train = pca.transform(X_train)\n",
    "transformed_valid = pca.transform(X_validation)\n",
    "transformed_test = pca.transform(X_test)\n",
    "print(transformed_train.shape, transformed_valid.shape, transformed_test.shape)\n",
    "\n",
    "pca = decomposition.PCA(svd_solver='auto', random_state=42)\n",
    "pca.fit(X_train_std)\n",
    "transformed_train_std = pca.transform(X_train_std)\n",
    "transformed_valid_std = pca.transform(X_validation_std)\n",
    "transformed_test_std = pca.transform(X_test_std)\n",
    "print(transformed_train_std.shape, transformed_valid_std.shape, transformed_test_std.shape)\n",
    "\n",
    "\n",
    "pca = decomposition.PCA(svd_solver='auto', random_state=42)\n",
    "pca.fit(X_train_random)\n",
    "transformed_train_random = pca.transform(X_train_random)\n",
    "transformed_valid_random = pca.transform(X_validation_random)\n",
    "transformed_test_random = pca.transform(X_test_random)\n",
    "print(transformed_train_random.shape, transformed_valid_random.shape, transformed_test_random.shape)\n",
    "\n",
    "pca = decomposition.PCA(svd_solver='auto', random_state=42)\n",
    "pca.fit(X_train_std_rand)\n",
    "transformed_train_std_random = pca.transform(X_train_std_rand)\n",
    "transformed_valid_std_random = pca.transform(X_validation_std_rand)\n",
    "transformed_test_std_random = pca.transform(X_test_std_rand)\n",
    "print(transformed_train_std_random.shape, transformed_valid_std_random.shape, transformed_test_std_random.shape)\n",
    "\n",
    "model = RandomForestClassifier(random_state=42)\n",
    "model.fit(transformed_train_std, Y_train)\n",
    "predictions = model.predict(transformed_test_std)\n",
    "\n",
    "print(\"Accuracy (standardise):\", accuracy_score(Y_test, predictions))\n",
    "\n",
    "model = RandomForestClassifier(random_state=42)\n",
    "model.fit(transformed_train, Y_train)\n",
    "predictions = model.predict(transformed_test)\n",
    "\n",
    "print(\"Accuracy:\", accuracy_score(Y_test, predictions))\n",
    "\n",
    "\n",
    "model = RandomForestClassifier(random_state=42)\n",
    "model.fit(transformed_train_std_random, y_train_random)\n",
    "predictions = model.predict(transformed_test_std_random)\n",
    "\n",
    "print(\"Accuracy (standardise):\", accuracy_score(y_test_random, predictions))\n",
    "\n",
    "model = RandomForestClassifier(random_state=42)\n",
    "model.fit(transformed_train_random, y_train_random)\n",
    "predictions = model.predict(transformed_test_random)\n",
    "\n",
    "print(\"Accuracy:\", accuracy_score(y_test_random, predictions))\n",
    "\n"
   ]
  },
  {
   "cell_type": "code",
   "execution_count": 11,
   "metadata": {},
   "outputs": [
    {
     "name": "stdout",
     "output_type": "stream",
     "text": [
      "(1889, 2) (396, 2) (349, 2)\n",
      "(1889, 2) (396, 2) (349, 2)\n",
      "(1977, 2) (329, 2) (330, 2)\n",
      "(1977, 2) (329, 2) (330, 2)\n",
      "Accuracy: 0.6475644699140402\n",
      "Accuracy (standardise): 0.6475644699140402\n",
      "Accuracy: 0.8575757575757575\n",
      "Accuracy (standardise): 0.8575757575757575\n"
     ]
    }
   ],
   "source": [
    "from sklearn import discriminant_analysis\n",
    "LinearDiscriminantAnalysis = discriminant_analysis.LinearDiscriminantAnalysis().fit(X_train, Y_train)\n",
    "transformed_lda_train = LinearDiscriminantAnalysis.transform(X_train)\n",
    "transformed_lda_valid = LinearDiscriminantAnalysis.transform(X_validation)\n",
    "transformed_lda_test = LinearDiscriminantAnalysis.transform(X_test)\n",
    "print(transformed_lda_train.shape, transformed_lda_valid.shape, transformed_lda_test.shape)\n",
    "\n",
    "LinearDiscriminantAnalysis = discriminant_analysis.LinearDiscriminantAnalysis().fit(X_train_std, Y_train)\n",
    "transformed_lda_train_std = LinearDiscriminantAnalysis.transform(X_train_std)\n",
    "transformed_lda_valid_std = LinearDiscriminantAnalysis.transform(X_validation_std)\n",
    "transformed_lda_test_std = LinearDiscriminantAnalysis.transform(X_test_std)\n",
    "print(transformed_lda_train_std.shape, transformed_lda_valid_std.shape, transformed_lda_test_std.shape)\n",
    "\n",
    "LinearDiscriminantAnalysis = discriminant_analysis.LinearDiscriminantAnalysis().fit(X_train_random, y_train_random)\n",
    "transformed_lda_train_random = LinearDiscriminantAnalysis.transform(X_train_random)\n",
    "transformed_lda_valid_random = LinearDiscriminantAnalysis.transform(X_validation_random)\n",
    "transformed_lda_test_random = LinearDiscriminantAnalysis.transform(X_test_random)\n",
    "print(transformed_lda_train_random.shape, transformed_lda_valid_random.shape, transformed_lda_test_random.shape)\n",
    "\n",
    "LinearDiscriminantAnalysis = discriminant_analysis.LinearDiscriminantAnalysis().fit(X_train_std_rand, y_train_random)\n",
    "transformed_lda_train_std_random = LinearDiscriminantAnalysis.transform(X_train_std_rand)\n",
    "transformed_lda_valid_std_random = LinearDiscriminantAnalysis.transform(X_validation_std_rand)\n",
    "transformed_lda_test_std_random = LinearDiscriminantAnalysis.transform(X_test_std_rand)\n",
    "print(transformed_lda_train_std_random.shape, transformed_lda_valid_std_random.shape, transformed_lda_test_std_random.shape)\n",
    "\n",
    "\n",
    "model = RandomForestClassifier(random_state=42)\n",
    "model.fit(transformed_lda_train, Y_train)\n",
    "predictions = model.predict(transformed_lda_test)\n",
    "\n",
    "print(\"Accuracy:\", accuracy_score(Y_test, predictions))\n",
    "\n",
    "model = RandomForestClassifier(random_state=42)\n",
    "model.fit(transformed_lda_train_std, Y_train)\n",
    "predictions = model.predict(transformed_lda_test_std)\n",
    "\n",
    "print(\"Accuracy (standardise):\", accuracy_score(Y_test, predictions))\n",
    "\n",
    "\n",
    "model = RandomForestClassifier(random_state=42)\n",
    "model.fit(transformed_lda_train_random, y_train_random)\n",
    "predictions = model.predict(transformed_lda_test_random)\n",
    "\n",
    "print(\"Accuracy:\", accuracy_score(y_test_random, predictions))\n",
    "\n",
    "model = RandomForestClassifier(random_state=42)\n",
    "model.fit(transformed_lda_train_std_random, y_train_random)\n",
    "predictions = model.predict(transformed_lda_test_std_random)\n",
    "\n",
    "print(\"Accuracy (standardise):\", accuracy_score(y_test_random, predictions))"
   ]
  },
  {
   "cell_type": "code",
   "execution_count": 12,
   "metadata": {},
   "outputs": [
    {
     "ename": "KeyboardInterrupt",
     "evalue": "",
     "output_type": "error",
     "traceback": [
      "\u001b[0;31m---------------------------------------------------------------------------\u001b[0m",
      "\u001b[0;31mKeyboardInterrupt\u001b[0m                         Traceback (most recent call last)",
      "Cell \u001b[0;32mIn[12], line 10\u001b[0m\n\u001b[1;32m      8\u001b[0m a_b \u001b[38;5;241m=\u001b[39m \u001b[38;5;241m0\u001b[39m\n\u001b[1;32m      9\u001b[0m \u001b[38;5;28;01mfor\u001b[39;00m r \u001b[38;5;129;01min\u001b[39;00m \u001b[38;5;28mrange\u001b[39m(num_itts):\n\u001b[0;32m---> 10\u001b[0m     kmeans \u001b[38;5;241m=\u001b[39m \u001b[43mKMeans\u001b[49m\u001b[43m(\u001b[49m\u001b[43mn_clusters\u001b[49m\u001b[38;5;241;43m=\u001b[39;49m\u001b[43mi\u001b[49m\u001b[38;5;241;43m+\u001b[39;49m\u001b[38;5;241;43m1\u001b[39;49m\u001b[43m,\u001b[49m\u001b[43m \u001b[49m\u001b[43mrandom_state\u001b[49m\u001b[38;5;241;43m=\u001b[39;49m\u001b[43mr\u001b[49m\u001b[43m)\u001b[49m\u001b[38;5;241;43m.\u001b[39;49m\u001b[43mfit\u001b[49m\u001b[43m(\u001b[49m\u001b[43mX_train\u001b[49m\u001b[43m)\u001b[49m\n\u001b[1;32m     12\u001b[0m     c \u001b[38;5;241m+\u001b[39m\u001b[38;5;241m=\u001b[39m kmeans\u001b[38;5;241m.\u001b[39minertia_\n\u001b[1;32m     14\u001b[0m     k \u001b[38;5;241m=\u001b[39m np\u001b[38;5;241m.\u001b[39mshape(kmeans\u001b[38;5;241m.\u001b[39mcluster_centers_)[\u001b[38;5;241m0\u001b[39m]\u001b[38;5;241m*\u001b[39m(np\u001b[38;5;241m.\u001b[39mshape(kmeans\u001b[38;5;241m.\u001b[39mcluster_centers_)[\u001b[38;5;241m1\u001b[39m] \u001b[38;5;241m+\u001b[39m \u001b[38;5;241m1\u001b[39m)\n",
      "File \u001b[0;32m~/venv/cab420/lib/python3.10/site-packages/sklearn/base.py:1474\u001b[0m, in \u001b[0;36m_fit_context.<locals>.decorator.<locals>.wrapper\u001b[0;34m(estimator, *args, **kwargs)\u001b[0m\n\u001b[1;32m   1467\u001b[0m     estimator\u001b[38;5;241m.\u001b[39m_validate_params()\n\u001b[1;32m   1469\u001b[0m \u001b[38;5;28;01mwith\u001b[39;00m config_context(\n\u001b[1;32m   1470\u001b[0m     skip_parameter_validation\u001b[38;5;241m=\u001b[39m(\n\u001b[1;32m   1471\u001b[0m         prefer_skip_nested_validation \u001b[38;5;129;01mor\u001b[39;00m global_skip_validation\n\u001b[1;32m   1472\u001b[0m     )\n\u001b[1;32m   1473\u001b[0m ):\n\u001b[0;32m-> 1474\u001b[0m     \u001b[38;5;28;01mreturn\u001b[39;00m \u001b[43mfit_method\u001b[49m\u001b[43m(\u001b[49m\u001b[43mestimator\u001b[49m\u001b[43m,\u001b[49m\u001b[43m \u001b[49m\u001b[38;5;241;43m*\u001b[39;49m\u001b[43margs\u001b[49m\u001b[43m,\u001b[49m\u001b[43m \u001b[49m\u001b[38;5;241;43m*\u001b[39;49m\u001b[38;5;241;43m*\u001b[39;49m\u001b[43mkwargs\u001b[49m\u001b[43m)\u001b[49m\n",
      "File \u001b[0;32m~/venv/cab420/lib/python3.10/site-packages/sklearn/cluster/_kmeans.py:1536\u001b[0m, in \u001b[0;36mKMeans.fit\u001b[0;34m(self, X, y, sample_weight)\u001b[0m\n\u001b[1;32m   1533\u001b[0m     \u001b[38;5;28mprint\u001b[39m(\u001b[38;5;124m\"\u001b[39m\u001b[38;5;124mInitialization complete\u001b[39m\u001b[38;5;124m\"\u001b[39m)\n\u001b[1;32m   1535\u001b[0m \u001b[38;5;66;03m# run a k-means once\u001b[39;00m\n\u001b[0;32m-> 1536\u001b[0m labels, inertia, centers, n_iter_ \u001b[38;5;241m=\u001b[39m \u001b[43mkmeans_single\u001b[49m\u001b[43m(\u001b[49m\n\u001b[1;32m   1537\u001b[0m \u001b[43m    \u001b[49m\u001b[43mX\u001b[49m\u001b[43m,\u001b[49m\n\u001b[1;32m   1538\u001b[0m \u001b[43m    \u001b[49m\u001b[43msample_weight\u001b[49m\u001b[43m,\u001b[49m\n\u001b[1;32m   1539\u001b[0m \u001b[43m    \u001b[49m\u001b[43mcenters_init\u001b[49m\u001b[43m,\u001b[49m\n\u001b[1;32m   1540\u001b[0m \u001b[43m    \u001b[49m\u001b[43mmax_iter\u001b[49m\u001b[38;5;241;43m=\u001b[39;49m\u001b[38;5;28;43mself\u001b[39;49m\u001b[38;5;241;43m.\u001b[39;49m\u001b[43mmax_iter\u001b[49m\u001b[43m,\u001b[49m\n\u001b[1;32m   1541\u001b[0m \u001b[43m    \u001b[49m\u001b[43mverbose\u001b[49m\u001b[38;5;241;43m=\u001b[39;49m\u001b[38;5;28;43mself\u001b[39;49m\u001b[38;5;241;43m.\u001b[39;49m\u001b[43mverbose\u001b[49m\u001b[43m,\u001b[49m\n\u001b[1;32m   1542\u001b[0m \u001b[43m    \u001b[49m\u001b[43mtol\u001b[49m\u001b[38;5;241;43m=\u001b[39;49m\u001b[38;5;28;43mself\u001b[39;49m\u001b[38;5;241;43m.\u001b[39;49m\u001b[43m_tol\u001b[49m\u001b[43m,\u001b[49m\n\u001b[1;32m   1543\u001b[0m \u001b[43m    \u001b[49m\u001b[43mn_threads\u001b[49m\u001b[38;5;241;43m=\u001b[39;49m\u001b[38;5;28;43mself\u001b[39;49m\u001b[38;5;241;43m.\u001b[39;49m\u001b[43m_n_threads\u001b[49m\u001b[43m,\u001b[49m\n\u001b[1;32m   1544\u001b[0m \u001b[43m\u001b[49m\u001b[43m)\u001b[49m\n\u001b[1;32m   1546\u001b[0m \u001b[38;5;66;03m# determine if these results are the best so far\u001b[39;00m\n\u001b[1;32m   1547\u001b[0m \u001b[38;5;66;03m# we chose a new run if it has a better inertia and the clustering is\u001b[39;00m\n\u001b[1;32m   1548\u001b[0m \u001b[38;5;66;03m# different from the best so far (it's possible that the inertia is\u001b[39;00m\n\u001b[1;32m   1549\u001b[0m \u001b[38;5;66;03m# slightly better even if the clustering is the same with potentially\u001b[39;00m\n\u001b[1;32m   1550\u001b[0m \u001b[38;5;66;03m# permuted labels, due to rounding errors)\u001b[39;00m\n\u001b[1;32m   1551\u001b[0m \u001b[38;5;28;01mif\u001b[39;00m best_inertia \u001b[38;5;129;01mis\u001b[39;00m \u001b[38;5;28;01mNone\u001b[39;00m \u001b[38;5;129;01mor\u001b[39;00m (\n\u001b[1;32m   1552\u001b[0m     inertia \u001b[38;5;241m<\u001b[39m best_inertia\n\u001b[1;32m   1553\u001b[0m     \u001b[38;5;129;01mand\u001b[39;00m \u001b[38;5;129;01mnot\u001b[39;00m _is_same_clustering(labels, best_labels, \u001b[38;5;28mself\u001b[39m\u001b[38;5;241m.\u001b[39mn_clusters)\n\u001b[1;32m   1554\u001b[0m ):\n",
      "File \u001b[0;32m~/venv/cab420/lib/python3.10/site-packages/sklearn/cluster/_kmeans.py:704\u001b[0m, in \u001b[0;36m_kmeans_single_lloyd\u001b[0;34m(X, sample_weight, centers_init, max_iter, verbose, tol, n_threads)\u001b[0m\n\u001b[1;32m    702\u001b[0m \u001b[38;5;28;01mwith\u001b[39;00m threadpool_limits(limits\u001b[38;5;241m=\u001b[39m\u001b[38;5;241m1\u001b[39m, user_api\u001b[38;5;241m=\u001b[39m\u001b[38;5;124m\"\u001b[39m\u001b[38;5;124mblas\u001b[39m\u001b[38;5;124m\"\u001b[39m):\n\u001b[1;32m    703\u001b[0m     \u001b[38;5;28;01mfor\u001b[39;00m i \u001b[38;5;129;01min\u001b[39;00m \u001b[38;5;28mrange\u001b[39m(max_iter):\n\u001b[0;32m--> 704\u001b[0m         \u001b[43mlloyd_iter\u001b[49m\u001b[43m(\u001b[49m\n\u001b[1;32m    705\u001b[0m \u001b[43m            \u001b[49m\u001b[43mX\u001b[49m\u001b[43m,\u001b[49m\n\u001b[1;32m    706\u001b[0m \u001b[43m            \u001b[49m\u001b[43msample_weight\u001b[49m\u001b[43m,\u001b[49m\n\u001b[1;32m    707\u001b[0m \u001b[43m            \u001b[49m\u001b[43mcenters\u001b[49m\u001b[43m,\u001b[49m\n\u001b[1;32m    708\u001b[0m \u001b[43m            \u001b[49m\u001b[43mcenters_new\u001b[49m\u001b[43m,\u001b[49m\n\u001b[1;32m    709\u001b[0m \u001b[43m            \u001b[49m\u001b[43mweight_in_clusters\u001b[49m\u001b[43m,\u001b[49m\n\u001b[1;32m    710\u001b[0m \u001b[43m            \u001b[49m\u001b[43mlabels\u001b[49m\u001b[43m,\u001b[49m\n\u001b[1;32m    711\u001b[0m \u001b[43m            \u001b[49m\u001b[43mcenter_shift\u001b[49m\u001b[43m,\u001b[49m\n\u001b[1;32m    712\u001b[0m \u001b[43m            \u001b[49m\u001b[43mn_threads\u001b[49m\u001b[43m,\u001b[49m\n\u001b[1;32m    713\u001b[0m \u001b[43m        \u001b[49m\u001b[43m)\u001b[49m\n\u001b[1;32m    715\u001b[0m         \u001b[38;5;28;01mif\u001b[39;00m verbose:\n\u001b[1;32m    716\u001b[0m             inertia \u001b[38;5;241m=\u001b[39m _inertia(X, sample_weight, centers, labels, n_threads)\n",
      "File \u001b[0;32msklearn/cluster/_k_means_lloyd.pyx:99\u001b[0m, in \u001b[0;36msklearn.cluster._k_means_lloyd.lloyd_iter_chunked_dense\u001b[0;34m()\u001b[0m\n",
      "File \u001b[0;32m~/venv/cab420/lib/python3.10/site-packages/sklearn/utils/extmath.py:85\u001b[0m, in \u001b[0;36mrow_norms\u001b[0;34m(X, squared)\u001b[0m\n\u001b[1;32m     83\u001b[0m \u001b[38;5;28;01melse\u001b[39;00m:\n\u001b[1;32m     84\u001b[0m     xp, _ \u001b[38;5;241m=\u001b[39m get_namespace(X)\n\u001b[0;32m---> 85\u001b[0m     \u001b[38;5;28;01mif\u001b[39;00m \u001b[43m_is_numpy_namespace\u001b[49m\u001b[43m(\u001b[49m\u001b[43mxp\u001b[49m\u001b[43m)\u001b[49m:\n\u001b[1;32m     86\u001b[0m         X \u001b[38;5;241m=\u001b[39m np\u001b[38;5;241m.\u001b[39masarray(X)\n\u001b[1;32m     87\u001b[0m         norms \u001b[38;5;241m=\u001b[39m np\u001b[38;5;241m.\u001b[39meinsum(\u001b[38;5;124m\"\u001b[39m\u001b[38;5;124mij,ij->i\u001b[39m\u001b[38;5;124m\"\u001b[39m, X, X)\n",
      "File \u001b[0;32m~/venv/cab420/lib/python3.10/site-packages/sklearn/utils/_array_api.py:113\u001b[0m, in \u001b[0;36m_is_numpy_namespace\u001b[0;34m(xp)\u001b[0m\n\u001b[1;32m    111\u001b[0m \u001b[38;5;28;01mdef\u001b[39;00m \u001b[38;5;21m_is_numpy_namespace\u001b[39m(xp):\n\u001b[1;32m    112\u001b[0m \u001b[38;5;250m    \u001b[39m\u001b[38;5;124;03m\"\"\"Return True if xp is backed by NumPy.\"\"\"\u001b[39;00m\n\u001b[0;32m--> 113\u001b[0m     \u001b[38;5;28;01mreturn\u001b[39;00m \u001b[43mxp\u001b[49m\u001b[38;5;241;43m.\u001b[39;49m\u001b[38;5;18;43m__name__\u001b[39;49m \u001b[38;5;129;01min\u001b[39;00m {\u001b[38;5;124m\"\u001b[39m\u001b[38;5;124mnumpy\u001b[39m\u001b[38;5;124m\"\u001b[39m, \u001b[38;5;124m\"\u001b[39m\u001b[38;5;124marray_api_compat.numpy\u001b[39m\u001b[38;5;124m\"\u001b[39m, \u001b[38;5;124m\"\u001b[39m\u001b[38;5;124mnumpy.array_api\u001b[39m\u001b[38;5;124m\"\u001b[39m}\n",
      "File \u001b[0;32m~/venv/cab420/lib/python3.10/site-packages/sklearn/utils/_array_api.py:276\u001b[0m, in \u001b[0;36m_NumPyAPIWrapper.__getattr__\u001b[0;34m(self, name)\u001b[0m\n\u001b[1;32m    273\u001b[0m attr \u001b[38;5;241m=\u001b[39m \u001b[38;5;28mgetattr\u001b[39m(numpy, name)\n\u001b[1;32m    275\u001b[0m \u001b[38;5;66;03m# Support device kwargs and make sure they are on the CPU\u001b[39;00m\n\u001b[0;32m--> 276\u001b[0m \u001b[38;5;28;01mif\u001b[39;00m name \u001b[38;5;129;01min\u001b[39;00m \u001b[38;5;28mself\u001b[39m\u001b[38;5;241m.\u001b[39m_CREATION_FUNCS:\n\u001b[1;32m    277\u001b[0m     \u001b[38;5;28;01mreturn\u001b[39;00m _accept_device_cpu(attr)\n\u001b[1;32m    279\u001b[0m \u001b[38;5;66;03m# Convert to dtype objects\u001b[39;00m\n",
      "\u001b[0;31mKeyboardInterrupt\u001b[0m: "
     ]
    }
   ],
   "source": [
    "from sklearn.cluster import KMeans\n",
    "num_itts = 10\n",
    "\n",
    "costs = [];\n",
    "approx_bic = []\n",
    "for i in range(100):\n",
    "    c = 0\n",
    "    a_b = 0\n",
    "    for r in range(num_itts):\n",
    "        kmeans = KMeans(n_clusters=i+1, random_state=r).fit(X_train)\n",
    "\n",
    "        c += kmeans.inertia_\n",
    "\n",
    "        k = np.shape(kmeans.cluster_centers_)[0]*(np.shape(kmeans.cluster_centers_)[1] + 1)\n",
    "        m = len(X_train)        \n",
    "        a_b += m*np.log(kmeans.inertia_ / m) + k*np.log(m)\n",
    "\n",
    "    costs.append(c / num_itts)\n",
    "    approx_bic.append(a_b / num_itts)\n",
    "\n",
    "fig = plt.figure(figsize=[20, 6])\n",
    "ax = fig.add_subplot(1, 2, 1)\n",
    "ax.plot(costs)\n",
    "ax.set_xlabel('Number of Clusters')\n",
    "ax.set_ylabel('Reconstruction Cost');  \n",
    "\n",
    "ax = fig.add_subplot(1, 2, 2)\n",
    "ax.plot(approx_bic)\n",
    "ax.set_xlabel('Number of Clusters')\n",
    "ax.set_ylabel('Approximate BIC');  "
   ]
  },
  {
   "cell_type": "code",
   "execution_count": 69,
   "metadata": {},
   "outputs": [
    {
     "name": "stdout",
     "output_type": "stream",
     "text": [
      "1\n"
     ]
    }
   ],
   "source": [
    "bic_score = np.argmin(approx_bic) + 1\n",
    "print(bic_score)"
   ]
  },
  {
   "cell_type": "code",
   "execution_count": 12,
   "metadata": {},
   "outputs": [
    {
     "name": "stdout",
     "output_type": "stream",
     "text": [
      "Accuracy: 0.45558739255014324\n",
      "Accuracy (standardise): 0.45558739255014324\n",
      "Accuracy: 0.44242424242424244\n",
      "Accuracy (standardise): 0.44242424242424244\n"
     ]
    }
   ],
   "source": [
    "from sklearn.cluster import KMeans\n",
    "kmeans = KMeans(n_clusters=1, random_state=4).fit(X_train)\n",
    "X_train_cluster = kmeans.predict(X_train)\n",
    "X_validation_cluster = kmeans.predict(X_validation)\n",
    "X_test_cluster = kmeans.predict(X_test)\n",
    "\n",
    "kmeans = KMeans(n_clusters=1, random_state=4).fit(X_train_std)\n",
    "X_train_std_cluster = kmeans.predict(X_train_std)\n",
    "X_validation_std_cluster = kmeans.predict(X_validation_std)\n",
    "X_test_std_cluster = kmeans.predict(X_test_std)\n",
    "\n",
    "kmeans = KMeans(n_clusters=1, random_state=4).fit(X_train_random)\n",
    "X_train_random_cluster = kmeans.predict(X_train_random)\n",
    "X_validation_random_cluster = kmeans.predict(X_validation_random)\n",
    "X_test_random_cluster = kmeans.predict(X_test_random)\n",
    "\n",
    "kmeans = KMeans(n_clusters=1, random_state=4).fit(X_train_std_rand)\n",
    "X_train_std_random_cluster = kmeans.predict(X_train_std_rand)\n",
    "X_validation_std_random_cluster = kmeans.predict(X_validation_std_rand)\n",
    "X_test_std_random_cluster = kmeans.predict(X_test_std_rand)\n",
    "\n",
    "\n",
    "model = RandomForestClassifier(random_state=42)\n",
    "model.fit(X_train_cluster.reshape(-1, 1), Y_train)\n",
    "predictions = model.predict(X_test_cluster.reshape(-1, 1))\n",
    "\n",
    "print(\"Accuracy:\", accuracy_score(Y_test, predictions))\n",
    "\n",
    "model = RandomForestClassifier(random_state=42)\n",
    "model.fit(X_train_std_cluster.reshape(-1, 1), Y_train)\n",
    "predictions = model.predict(X_test_std_cluster.reshape(-1, 1))\n",
    "\n",
    "print(\"Accuracy (standardise):\", accuracy_score(Y_test, predictions))\n",
    "\n",
    "model = RandomForestClassifier(random_state=42)\n",
    "model.fit(X_train_random_cluster.reshape(-1, 1), y_train_random)\n",
    "predictions = model.predict(X_test_random_cluster.reshape(-1, 1))\n",
    "\n",
    "print(\"Accuracy:\", accuracy_score(y_test_random, predictions))\n",
    "\n",
    "model = RandomForestClassifier(random_state=42)\n",
    "model.fit(X_train_std_random_cluster.reshape(-1, 1), y_train_random)\n",
    "predictions = model.predict(X_test_std_random_cluster.reshape(-1, 1))\n",
    "\n",
    "print(\"Accuracy (standardise):\", accuracy_score(y_test_random, predictions))"
   ]
  },
  {
   "cell_type": "code",
   "execution_count": 14,
   "metadata": {},
   "outputs": [
    {
     "ename": "KeyboardInterrupt",
     "evalue": "",
     "output_type": "error",
     "traceback": [
      "\u001b[0;31m---------------------------------------------------------------------------\u001b[0m",
      "\u001b[0;31mKeyboardInterrupt\u001b[0m                         Traceback (most recent call last)",
      "Cell \u001b[0;32mIn[14], line 8\u001b[0m\n\u001b[1;32m      6\u001b[0m \u001b[38;5;28;01mfor\u001b[39;00m r \u001b[38;5;129;01min\u001b[39;00m \u001b[38;5;28mrange\u001b[39m(num_itts):\n\u001b[1;32m      7\u001b[0m     gmm \u001b[38;5;241m=\u001b[39m GaussianMixture(i\u001b[38;5;241m+\u001b[39m\u001b[38;5;241m1\u001b[39m, random_state\u001b[38;5;241m=\u001b[39mr)\n\u001b[0;32m----> 8\u001b[0m     \u001b[43mgmm\u001b[49m\u001b[38;5;241;43m.\u001b[39;49m\u001b[43mfit\u001b[49m\u001b[43m(\u001b[49m\u001b[43mX_train\u001b[49m\u001b[43m)\u001b[49m\n\u001b[1;32m      9\u001b[0m     b \u001b[38;5;241m+\u001b[39m\u001b[38;5;241m=\u001b[39m gmm\u001b[38;5;241m.\u001b[39mbic(X_train)\n\u001b[1;32m     10\u001b[0m bics\u001b[38;5;241m.\u001b[39mappend(b \u001b[38;5;241m/\u001b[39m num_itts)\n",
      "File \u001b[0;32m~/venv/cab420/lib/python3.10/site-packages/sklearn/mixture/_base.py:181\u001b[0m, in \u001b[0;36mBaseMixture.fit\u001b[0;34m(self, X, y)\u001b[0m\n\u001b[1;32m    155\u001b[0m \u001b[38;5;250m\u001b[39m\u001b[38;5;124;03m\"\"\"Estimate model parameters with the EM algorithm.\u001b[39;00m\n\u001b[1;32m    156\u001b[0m \n\u001b[1;32m    157\u001b[0m \u001b[38;5;124;03mThe method fits the model ``n_init`` times and sets the parameters with\u001b[39;00m\n\u001b[0;32m   (...)\u001b[0m\n\u001b[1;32m    178\u001b[0m \u001b[38;5;124;03m    The fitted mixture.\u001b[39;00m\n\u001b[1;32m    179\u001b[0m \u001b[38;5;124;03m\"\"\"\u001b[39;00m\n\u001b[1;32m    180\u001b[0m \u001b[38;5;66;03m# parameters are validated in fit_predict\u001b[39;00m\n\u001b[0;32m--> 181\u001b[0m \u001b[38;5;28;43mself\u001b[39;49m\u001b[38;5;241;43m.\u001b[39;49m\u001b[43mfit_predict\u001b[49m\u001b[43m(\u001b[49m\u001b[43mX\u001b[49m\u001b[43m,\u001b[49m\u001b[43m \u001b[49m\u001b[43my\u001b[49m\u001b[43m)\u001b[49m\n\u001b[1;32m    182\u001b[0m \u001b[38;5;28;01mreturn\u001b[39;00m \u001b[38;5;28mself\u001b[39m\n",
      "File \u001b[0;32m~/venv/cab420/lib/python3.10/site-packages/sklearn/base.py:1474\u001b[0m, in \u001b[0;36m_fit_context.<locals>.decorator.<locals>.wrapper\u001b[0;34m(estimator, *args, **kwargs)\u001b[0m\n\u001b[1;32m   1467\u001b[0m     estimator\u001b[38;5;241m.\u001b[39m_validate_params()\n\u001b[1;32m   1469\u001b[0m \u001b[38;5;28;01mwith\u001b[39;00m config_context(\n\u001b[1;32m   1470\u001b[0m     skip_parameter_validation\u001b[38;5;241m=\u001b[39m(\n\u001b[1;32m   1471\u001b[0m         prefer_skip_nested_validation \u001b[38;5;129;01mor\u001b[39;00m global_skip_validation\n\u001b[1;32m   1472\u001b[0m     )\n\u001b[1;32m   1473\u001b[0m ):\n\u001b[0;32m-> 1474\u001b[0m     \u001b[38;5;28;01mreturn\u001b[39;00m \u001b[43mfit_method\u001b[49m\u001b[43m(\u001b[49m\u001b[43mestimator\u001b[49m\u001b[43m,\u001b[49m\u001b[43m \u001b[49m\u001b[38;5;241;43m*\u001b[39;49m\u001b[43margs\u001b[49m\u001b[43m,\u001b[49m\u001b[43m \u001b[49m\u001b[38;5;241;43m*\u001b[39;49m\u001b[38;5;241;43m*\u001b[39;49m\u001b[43mkwargs\u001b[49m\u001b[43m)\u001b[49m\n",
      "File \u001b[0;32m~/venv/cab420/lib/python3.10/site-packages/sklearn/mixture/_base.py:235\u001b[0m, in \u001b[0;36mBaseMixture.fit_predict\u001b[0;34m(self, X, y)\u001b[0m\n\u001b[1;32m    232\u001b[0m \u001b[38;5;28mself\u001b[39m\u001b[38;5;241m.\u001b[39m_print_verbose_msg_init_beg(init)\n\u001b[1;32m    234\u001b[0m \u001b[38;5;28;01mif\u001b[39;00m do_init:\n\u001b[0;32m--> 235\u001b[0m     \u001b[38;5;28;43mself\u001b[39;49m\u001b[38;5;241;43m.\u001b[39;49m\u001b[43m_initialize_parameters\u001b[49m\u001b[43m(\u001b[49m\u001b[43mX\u001b[49m\u001b[43m,\u001b[49m\u001b[43m \u001b[49m\u001b[43mrandom_state\u001b[49m\u001b[43m)\u001b[49m\n\u001b[1;32m    237\u001b[0m lower_bound \u001b[38;5;241m=\u001b[39m \u001b[38;5;241m-\u001b[39mnp\u001b[38;5;241m.\u001b[39minf \u001b[38;5;28;01mif\u001b[39;00m do_init \u001b[38;5;28;01melse\u001b[39;00m \u001b[38;5;28mself\u001b[39m\u001b[38;5;241m.\u001b[39mlower_bound_\n\u001b[1;32m    239\u001b[0m \u001b[38;5;28;01mif\u001b[39;00m \u001b[38;5;28mself\u001b[39m\u001b[38;5;241m.\u001b[39mmax_iter \u001b[38;5;241m==\u001b[39m \u001b[38;5;241m0\u001b[39m:\n",
      "File \u001b[0;32m~/venv/cab420/lib/python3.10/site-packages/sklearn/mixture/_gaussian_mixture.py:766\u001b[0m, in \u001b[0;36mGaussianMixture._initialize_parameters\u001b[0;34m(self, X, random_state)\u001b[0m\n\u001b[1;32m    760\u001b[0m compute_resp \u001b[38;5;241m=\u001b[39m (\n\u001b[1;32m    761\u001b[0m     \u001b[38;5;28mself\u001b[39m\u001b[38;5;241m.\u001b[39mweights_init \u001b[38;5;129;01mis\u001b[39;00m \u001b[38;5;28;01mNone\u001b[39;00m\n\u001b[1;32m    762\u001b[0m     \u001b[38;5;129;01mor\u001b[39;00m \u001b[38;5;28mself\u001b[39m\u001b[38;5;241m.\u001b[39mmeans_init \u001b[38;5;129;01mis\u001b[39;00m \u001b[38;5;28;01mNone\u001b[39;00m\n\u001b[1;32m    763\u001b[0m     \u001b[38;5;129;01mor\u001b[39;00m \u001b[38;5;28mself\u001b[39m\u001b[38;5;241m.\u001b[39mprecisions_init \u001b[38;5;129;01mis\u001b[39;00m \u001b[38;5;28;01mNone\u001b[39;00m\n\u001b[1;32m    764\u001b[0m )\n\u001b[1;32m    765\u001b[0m \u001b[38;5;28;01mif\u001b[39;00m compute_resp:\n\u001b[0;32m--> 766\u001b[0m     \u001b[38;5;28;43msuper\u001b[39;49m\u001b[43m(\u001b[49m\u001b[43m)\u001b[49m\u001b[38;5;241;43m.\u001b[39;49m\u001b[43m_initialize_parameters\u001b[49m\u001b[43m(\u001b[49m\u001b[43mX\u001b[49m\u001b[43m,\u001b[49m\u001b[43m \u001b[49m\u001b[43mrandom_state\u001b[49m\u001b[43m)\u001b[49m\n\u001b[1;32m    767\u001b[0m \u001b[38;5;28;01melse\u001b[39;00m:\n\u001b[1;32m    768\u001b[0m     \u001b[38;5;28mself\u001b[39m\u001b[38;5;241m.\u001b[39m_initialize(X, \u001b[38;5;28;01mNone\u001b[39;00m)\n",
      "File \u001b[0;32m~/venv/cab420/lib/python3.10/site-packages/sklearn/mixture/_base.py:140\u001b[0m, in \u001b[0;36mBaseMixture._initialize_parameters\u001b[0;34m(self, X, random_state)\u001b[0m\n\u001b[1;32m    133\u001b[0m     _, indices \u001b[38;5;241m=\u001b[39m kmeans_plusplus(\n\u001b[1;32m    134\u001b[0m         X,\n\u001b[1;32m    135\u001b[0m         \u001b[38;5;28mself\u001b[39m\u001b[38;5;241m.\u001b[39mn_components,\n\u001b[1;32m    136\u001b[0m         random_state\u001b[38;5;241m=\u001b[39mrandom_state,\n\u001b[1;32m    137\u001b[0m     )\n\u001b[1;32m    138\u001b[0m     resp[indices, np\u001b[38;5;241m.\u001b[39marange(\u001b[38;5;28mself\u001b[39m\u001b[38;5;241m.\u001b[39mn_components)] \u001b[38;5;241m=\u001b[39m \u001b[38;5;241m1\u001b[39m\n\u001b[0;32m--> 140\u001b[0m \u001b[38;5;28;43mself\u001b[39;49m\u001b[38;5;241;43m.\u001b[39;49m\u001b[43m_initialize\u001b[49m\u001b[43m(\u001b[49m\u001b[43mX\u001b[49m\u001b[43m,\u001b[49m\u001b[43m \u001b[49m\u001b[43mresp\u001b[49m\u001b[43m)\u001b[49m\n",
      "File \u001b[0;32m~/venv/cab420/lib/python3.10/site-packages/sklearn/mixture/_gaussian_mixture.py:793\u001b[0m, in \u001b[0;36mGaussianMixture._initialize\u001b[0;34m(self, X, resp)\u001b[0m\n\u001b[1;32m    791\u001b[0m \u001b[38;5;28;01mif\u001b[39;00m \u001b[38;5;28mself\u001b[39m\u001b[38;5;241m.\u001b[39mprecisions_init \u001b[38;5;129;01mis\u001b[39;00m \u001b[38;5;28;01mNone\u001b[39;00m:\n\u001b[1;32m    792\u001b[0m     \u001b[38;5;28mself\u001b[39m\u001b[38;5;241m.\u001b[39mcovariances_ \u001b[38;5;241m=\u001b[39m covariances\n\u001b[0;32m--> 793\u001b[0m     \u001b[38;5;28mself\u001b[39m\u001b[38;5;241m.\u001b[39mprecisions_cholesky_ \u001b[38;5;241m=\u001b[39m \u001b[43m_compute_precision_cholesky\u001b[49m\u001b[43m(\u001b[49m\n\u001b[1;32m    794\u001b[0m \u001b[43m        \u001b[49m\u001b[43mcovariances\u001b[49m\u001b[43m,\u001b[49m\u001b[43m \u001b[49m\u001b[38;5;28;43mself\u001b[39;49m\u001b[38;5;241;43m.\u001b[39;49m\u001b[43mcovariance_type\u001b[49m\n\u001b[1;32m    795\u001b[0m \u001b[43m    \u001b[49m\u001b[43m)\u001b[49m\n\u001b[1;32m    796\u001b[0m \u001b[38;5;28;01melse\u001b[39;00m:\n\u001b[1;32m    797\u001b[0m     \u001b[38;5;28mself\u001b[39m\u001b[38;5;241m.\u001b[39mprecisions_cholesky_ \u001b[38;5;241m=\u001b[39m _compute_precision_cholesky_from_precisions(\n\u001b[1;32m    798\u001b[0m         \u001b[38;5;28mself\u001b[39m\u001b[38;5;241m.\u001b[39mprecisions_init, \u001b[38;5;28mself\u001b[39m\u001b[38;5;241m.\u001b[39mcovariance_type\n\u001b[1;32m    799\u001b[0m     )\n",
      "File \u001b[0;32m~/venv/cab420/lib/python3.10/site-packages/sklearn/mixture/_gaussian_mixture.py:329\u001b[0m, in \u001b[0;36m_compute_precision_cholesky\u001b[0;34m(covariances, covariance_type)\u001b[0m\n\u001b[1;32m    327\u001b[0m \u001b[38;5;28;01mfor\u001b[39;00m k, covariance \u001b[38;5;129;01min\u001b[39;00m \u001b[38;5;28menumerate\u001b[39m(covariances):\n\u001b[1;32m    328\u001b[0m     \u001b[38;5;28;01mtry\u001b[39;00m:\n\u001b[0;32m--> 329\u001b[0m         cov_chol \u001b[38;5;241m=\u001b[39m \u001b[43mlinalg\u001b[49m\u001b[38;5;241;43m.\u001b[39;49m\u001b[43mcholesky\u001b[49m\u001b[43m(\u001b[49m\u001b[43mcovariance\u001b[49m\u001b[43m,\u001b[49m\u001b[43m \u001b[49m\u001b[43mlower\u001b[49m\u001b[38;5;241;43m=\u001b[39;49m\u001b[38;5;28;43;01mTrue\u001b[39;49;00m\u001b[43m)\u001b[49m\n\u001b[1;32m    330\u001b[0m     \u001b[38;5;28;01mexcept\u001b[39;00m linalg\u001b[38;5;241m.\u001b[39mLinAlgError:\n\u001b[1;32m    331\u001b[0m         \u001b[38;5;28;01mraise\u001b[39;00m \u001b[38;5;167;01mValueError\u001b[39;00m(estimate_precision_error_message)\n",
      "File \u001b[0;32m~/venv/cab420/lib/python3.10/site-packages/scipy/linalg/_decomp_cholesky.py:88\u001b[0m, in \u001b[0;36mcholesky\u001b[0;34m(a, lower, overwrite_a, check_finite)\u001b[0m\n\u001b[1;32m     44\u001b[0m \u001b[38;5;28;01mdef\u001b[39;00m \u001b[38;5;21mcholesky\u001b[39m(a, lower\u001b[38;5;241m=\u001b[39m\u001b[38;5;28;01mFalse\u001b[39;00m, overwrite_a\u001b[38;5;241m=\u001b[39m\u001b[38;5;28;01mFalse\u001b[39;00m, check_finite\u001b[38;5;241m=\u001b[39m\u001b[38;5;28;01mTrue\u001b[39;00m):\n\u001b[1;32m     45\u001b[0m \u001b[38;5;250m    \u001b[39m\u001b[38;5;124;03m\"\"\"\u001b[39;00m\n\u001b[1;32m     46\u001b[0m \u001b[38;5;124;03m    Compute the Cholesky decomposition of a matrix.\u001b[39;00m\n\u001b[1;32m     47\u001b[0m \n\u001b[0;32m   (...)\u001b[0m\n\u001b[1;32m     86\u001b[0m \n\u001b[1;32m     87\u001b[0m \u001b[38;5;124;03m    \"\"\"\u001b[39;00m\n\u001b[0;32m---> 88\u001b[0m     c, lower \u001b[38;5;241m=\u001b[39m \u001b[43m_cholesky\u001b[49m\u001b[43m(\u001b[49m\u001b[43ma\u001b[49m\u001b[43m,\u001b[49m\u001b[43m \u001b[49m\u001b[43mlower\u001b[49m\u001b[38;5;241;43m=\u001b[39;49m\u001b[43mlower\u001b[49m\u001b[43m,\u001b[49m\u001b[43m \u001b[49m\u001b[43moverwrite_a\u001b[49m\u001b[38;5;241;43m=\u001b[39;49m\u001b[43moverwrite_a\u001b[49m\u001b[43m,\u001b[49m\u001b[43m \u001b[49m\u001b[43mclean\u001b[49m\u001b[38;5;241;43m=\u001b[39;49m\u001b[38;5;28;43;01mTrue\u001b[39;49;00m\u001b[43m,\u001b[49m\n\u001b[1;32m     89\u001b[0m \u001b[43m                         \u001b[49m\u001b[43mcheck_finite\u001b[49m\u001b[38;5;241;43m=\u001b[39;49m\u001b[43mcheck_finite\u001b[49m\u001b[43m)\u001b[49m\n\u001b[1;32m     90\u001b[0m     \u001b[38;5;28;01mreturn\u001b[39;00m c\n",
      "File \u001b[0;32m~/venv/cab420/lib/python3.10/site-packages/scipy/linalg/_decomp_cholesky.py:34\u001b[0m, in \u001b[0;36m_cholesky\u001b[0;34m(a, lower, overwrite_a, clean, check_finite)\u001b[0m\n\u001b[1;32m     32\u001b[0m overwrite_a \u001b[38;5;241m=\u001b[39m overwrite_a \u001b[38;5;129;01mor\u001b[39;00m _datacopied(a1, a)\n\u001b[1;32m     33\u001b[0m potrf, \u001b[38;5;241m=\u001b[39m get_lapack_funcs((\u001b[38;5;124m'\u001b[39m\u001b[38;5;124mpotrf\u001b[39m\u001b[38;5;124m'\u001b[39m,), (a1,))\n\u001b[0;32m---> 34\u001b[0m c, info \u001b[38;5;241m=\u001b[39m \u001b[43mpotrf\u001b[49m\u001b[43m(\u001b[49m\u001b[43ma1\u001b[49m\u001b[43m,\u001b[49m\u001b[43m \u001b[49m\u001b[43mlower\u001b[49m\u001b[38;5;241;43m=\u001b[39;49m\u001b[43mlower\u001b[49m\u001b[43m,\u001b[49m\u001b[43m \u001b[49m\u001b[43moverwrite_a\u001b[49m\u001b[38;5;241;43m=\u001b[39;49m\u001b[43moverwrite_a\u001b[49m\u001b[43m,\u001b[49m\u001b[43m \u001b[49m\u001b[43mclean\u001b[49m\u001b[38;5;241;43m=\u001b[39;49m\u001b[43mclean\u001b[49m\u001b[43m)\u001b[49m\n\u001b[1;32m     35\u001b[0m \u001b[38;5;28;01mif\u001b[39;00m info \u001b[38;5;241m>\u001b[39m \u001b[38;5;241m0\u001b[39m:\n\u001b[1;32m     36\u001b[0m     \u001b[38;5;28;01mraise\u001b[39;00m LinAlgError(\u001b[38;5;124m\"\u001b[39m\u001b[38;5;132;01m%d\u001b[39;00m\u001b[38;5;124m-th leading minor of the array is not positive \u001b[39m\u001b[38;5;124m\"\u001b[39m\n\u001b[1;32m     37\u001b[0m                       \u001b[38;5;124m\"\u001b[39m\u001b[38;5;124mdefinite\u001b[39m\u001b[38;5;124m\"\u001b[39m \u001b[38;5;241m%\u001b[39m info)\n",
      "\u001b[0;31mKeyboardInterrupt\u001b[0m: "
     ]
    }
   ],
   "source": [
    "from sklearn.mixture import GaussianMixture\n",
    "num_itts = 5\n",
    "bics = []\n",
    "for i in range (100):\n",
    "    b = 0\n",
    "    for r in range(num_itts):\n",
    "        gmm = GaussianMixture(i+1, random_state=r)\n",
    "        gmm.fit(X_train)\n",
    "        b += gmm.bic(X_train)\n",
    "    bics.append(b / num_itts)\n",
    "    \n",
    "fig = plt.figure(figsize=[8, 6])\n",
    "ax = fig.add_subplot(1, 1, 1)\n",
    "ax.plot(bics)\n",
    "ax.set_xlabel('Number of Clusters')\n",
    "ax.set_ylabel('BIC');"
   ]
  },
  {
   "cell_type": "code",
   "execution_count": 75,
   "metadata": {},
   "outputs": [
    {
     "name": "stdout",
     "output_type": "stream",
     "text": [
      "1\n"
     ]
    }
   ],
   "source": [
    "gmm_score = np.argmin(bics) + 1\n",
    "print(gmm_score)"
   ]
  },
  {
   "cell_type": "code",
   "execution_count": 13,
   "metadata": {},
   "outputs": [
    {
     "name": "stdout",
     "output_type": "stream",
     "text": [
      "(1889, 1) (396, 1) (349, 1)\n",
      "(1889, 1) (396, 1) (349, 1)\n",
      "(1977, 1) (329, 1) (330, 1)\n",
      "(1977, 1) (329, 1) (330, 1)\n",
      "Accuracy: 0.45558739255014324\n",
      "Accuracy (standardise): 0.45558739255014324\n",
      "Accuracy: 0.44242424242424244\n",
      "Accuracy (standardise): 0.44242424242424244\n"
     ]
    }
   ],
   "source": [
    "from sklearn.mixture import GaussianMixture\n",
    "gmm = GaussianMixture(1, random_state=42)\n",
    "gmm.fit(X_train)\n",
    "transformed_train_gmm = gmm.predict_proba(X_train)\n",
    "transformed_valid_gmm = gmm.predict_proba(X_validation)\n",
    "transformed_test_gmm = gmm.predict_proba(X_test)\n",
    "print(transformed_train_gmm.shape, transformed_valid_gmm.shape, transformed_test_gmm.shape)\n",
    "\n",
    "gmm.fit(X_train_std)\n",
    "transformed_train_std_gmm = gmm.predict_proba(X_train_std)\n",
    "transformed_valid_std_gmm = gmm.predict_proba(X_validation_std)\n",
    "transformed_test_std_gmm = gmm.predict_proba(X_test_std)\n",
    "print(transformed_train_std_gmm.shape, transformed_valid_std_gmm.shape, transformed_test_std_gmm.shape)\n",
    "\n",
    "gmm.fit(X_train_random)\n",
    "transformed_train_random_gmm = gmm.predict_proba(X_train_random)\n",
    "transformed_valid_random_gmm = gmm.predict_proba(X_validation_random)\n",
    "transformed_test_random_gmm = gmm.predict_proba(X_test_random)\n",
    "print(transformed_train_random_gmm.shape, transformed_valid_random_gmm.shape, transformed_test_random_gmm.shape)\n",
    "\n",
    "gmm.fit(X_train_std_rand)\n",
    "transformed_train_std_random_gmm = gmm.predict_proba(X_train_std_rand)\n",
    "transformed_valid_std_random_gmm = gmm.predict_proba(X_validation_std_rand)\n",
    "transformed_test_std_random_gmm = gmm.predict_proba(X_test_std_rand)\n",
    "print(transformed_train_std_random_gmm.shape, transformed_valid_std_random_gmm.shape, transformed_test_std_random_gmm.shape)\n",
    "\n",
    "model = RandomForestClassifier(random_state=42)\n",
    "model.fit(transformed_train_gmm, Y_train)\n",
    "predictions = model.predict(transformed_test_gmm)\n",
    "\n",
    "print(\"Accuracy:\", accuracy_score(Y_test, predictions))\n",
    "\n",
    "model = RandomForestClassifier(random_state=42)\n",
    "model.fit(transformed_train_std_gmm, Y_train)\n",
    "predictions = model.predict(transformed_test_std_gmm)\n",
    "\n",
    "print(\"Accuracy (standardise):\", accuracy_score(Y_test, predictions))\n",
    "\n",
    "model = RandomForestClassifier(random_state=42)\n",
    "model.fit(transformed_train_random_gmm, y_train_random)\n",
    "predictions = model.predict(transformed_test_random_gmm)\n",
    "\n",
    "print(\"Accuracy:\", accuracy_score(y_test_random, predictions))\n",
    "\n",
    "model = RandomForestClassifier(random_state=42)\n",
    "model.fit(transformed_train_std_random_gmm, y_train_random)\n",
    "predictions = model.predict(transformed_test_std_random_gmm)\n",
    "\n",
    "print(\"Accuracy (standardise):\", accuracy_score(y_test_random, predictions))"
   ]
  },
  {
   "cell_type": "code",
   "execution_count": 16,
   "metadata": {},
   "outputs": [
    {
     "data": {
      "image/png": "[encoded data removed]",
      "text/plain": [
       "<Figure size 1000x500 with 1 Axes>"
      ]
     },
     "metadata": {},
     "output_type": "display_data"
    }
   ],
   "source": [
    "from sklearn.model_selection import cross_val_score\n",
    "from sklearn.svm import SVC\n",
    "from sklearn.model_selection import GridSearchCV\n",
    "\n",
    "C_values = [0.0001, 0.001, 0.01, 0.1, 1, 10, 100, 1000]\n",
    "def plot(kernel):\n",
    "    cv_scores = []\n",
    "    test_accuracies = []\n",
    "\n",
    "    for C in C_values:\n",
    "        svc = SVC(C=C, kernel=kernel)\n",
    "        cv_score = np.mean(cross_val_score(svc, X_train, Y_train, cv=2))\n",
    "        cv_scores.append(cv_score)\n",
    "\n",
    "        svc.fit(X_train, Y_train)\n",
    "        test_accuracy = svc.score(X_test, Y_test)\n",
    "        test_accuracies.append(test_accuracy)\n",
    "\n",
    "    plt.figure(figsize=(10, 5))\n",
    "    plt.plot(C_values, cv_scores, label=f'{kernel} Cross-Validation Score', marker='o')\n",
    "    plt.plot(C_values, test_accuracies, label=f'{kernel} Test Accuracy', marker='s')\n",
    "    plt.xscale('log')\n",
    "    plt.xlabel('C Value')\n",
    "    plt.ylabel('Score')\n",
    "    plt.title(f'{kernel} kernel')\n",
    "    plt.legend()\n",
    "    plt.grid(True)\n",
    "    plt.show()\n",
    "\n",
    "plot(kernel='rbf')\n",
    "plot(kernel='linear')\n",
    "plot(kernel='poly')\n"
   ]
  },
  {
   "cell_type": "code",
   "execution_count": 14,
   "metadata": {},
   "outputs": [],
   "source": [
    "from sklearn.metrics import ConfusionMatrixDisplay\n",
    "\n",
    "def eval_model(model, X_train, Y_train, X_val, Y_val, X_test, Y_test):\n",
    "    fig = plt.figure(figsize=[25, 8])\n",
    "    ax = fig.add_subplot(1, 3, 1)\n",
    "    conf = ConfusionMatrixDisplay.from_estimator(model, X_train, Y_train, normalize='true', ax=ax)\n",
    "    pred = model.predict(X_train)\n",
    "    conf.ax_.set_title('Training Set Performance: ' + str(sum(pred == Y_train)/len(Y_train)));\n",
    "    ax = fig.add_subplot(1, 3, 2)\n",
    "    conf = ConfusionMatrixDisplay.from_estimator(model, X_val, Y_val, normalize='true', ax=ax)\n",
    "    pred = model.predict(X_val)\n",
    "    conf.ax_.set_title('Validation Set Performance: ' + str(sum(pred == Y_val)/len(Y_val)));\n",
    "    ax = fig.add_subplot(1, 3, 3)\n",
    "    conf = ConfusionMatrixDisplay.from_estimator(model, X_test, Y_test, normalize='true', ax=ax)\n",
    "    pred = model.predict(X_test)\n",
    "    conf.ax_.set_title('Test Set Performance: ' + str(sum(pred == Y_test)/len(Y_test)));"
   ]
  },
  {
   "cell_type": "markdown",
   "metadata": {},
   "source": [
    "### Regular Dataset with Standard and Random"
   ]
  },
  {
   "cell_type": "code",
   "execution_count": 16,
   "metadata": {},
   "outputs": [],
   "source": [
    "from sklearn.model_selection import cross_val_score\n",
    "from sklearn.svm import SVC\n",
    "from sklearn.model_selection import GridSearchCV\n",
    "C_values = np.arange(1, 100, 1)\n",
    "gamma_values = np.arange(0.01, 0.0001, -0.0001)\n",
    "\n",
    "param_grid = [\n",
    "    {\n",
    "    'kernel': ['linear'],\n",
    "    'C': [0.0001, 0.001, 0.01, 0.1, 1, 10, 100, 1000]\n",
    "    }]\n",
    "\n",
    "svm = SVC(probability=True)\n",
    "svm_grid_search = GridSearchCV(svm, param_grid, cv=2)\n",
    "svm_grid_search.fit(X_train, Y_train)\n",
    "svm_best_parameters = svm_grid_search.best_params_\n",
    "svm_best_score = svm_grid_search.best_score_\n",
    "svm_best_model = svm_grid_search.best_estimator_\n",
    "\n",
    " \n",
    "print(f\"Best Parameters: {svm_best_parameters}\")\n",
    "print(f\"Best Score: {svm_best_score}\")"
   ]
  },
  {
   "cell_type": "code",
   "execution_count": null,
   "metadata": {},
   "outputs": [],
   "source": [
    "svm_grid_search.fit(X_train_random, y_train_random)\n",
    "svm_best_parameters = svm_grid_search.best_params_\n",
    "svm_best_score = svm_grid_search.best_score_\n",
    "svm_best_model_random = svm_grid_search.best_estimator_\n",
    "\n",
    " \n",
    "print(f\"Best Parameters: {svm_best_parameters}\")\n",
    "print(f\"Best Score: {svm_best_score}\")"
   ]
  },
  {
   "cell_type": "code",
   "execution_count": null,
   "metadata": {},
   "outputs": [],
   "source": [
    "from sklearn.metrics import classification_report\n",
    "print(\"SVM Regular Dataset\")\n",
    "print(classification_report(Y_test, svm_best_model.predict(X_test)))\n",
    "eval_model(svm_best_model, X_train, Y_train, X_validation, Y_validation, X_test, Y_test)"
   ]
  },
  {
   "cell_type": "code",
   "execution_count": 90,
   "metadata": {},
   "outputs": [
    {
     "name": "stdout",
     "output_type": "stream",
     "text": [
      "SVM Train\n",
      "              precision    recall  f1-score   support\n",
      "\n",
      "          -1       0.91      0.83      0.87       109\n",
      "           0       0.74      0.81      0.78        81\n",
      "           1       0.88      0.89      0.89       159\n",
      "\n",
      "    accuracy                           0.85       349\n",
      "   macro avg       0.84      0.84      0.84       349\n",
      "weighted avg       0.86      0.85      0.85       349\n",
      "\n"
     ]
    },
    {
     "data": {
      "image/png": "[encoded data removed]",
      "text/plain": [
       "<Figure size 2500x800 with 6 Axes>"
      ]
     },
     "metadata": {},
     "output_type": "display_data"
    }
   ],
   "source": [
    "from sklearn.metrics import classification_report\n",
    "print(\"SVM Regular Dataset (Random)\")\n",
    "print(classification_report(y_test_random, svm_best_model.predict(X_test_random)))\n",
    "eval_model(svm_best_model, X_train_random, y_train_random, X_validation_random, y_validation_random, X_test_random, y_test_random)"
   ]
  }
 ],
 "metadata": {
  "kernelspec": {
   "display_name": "cab420",
   "language": "python",
   "name": "python3"
  },
  "language_info": {
   "codemirror_mode": {
    "name": "ipython",
    "version": 3
   },
   "file_extension": ".py",
   "mimetype": "text/x-python",
   "name": "python",
   "nbconvert_exporter": "python",
   "pygments_lexer": "ipython3",
   "version": "3.10.12"
  }
 },
 "nbformat": 4,
 "nbformat_minor": 2
}
